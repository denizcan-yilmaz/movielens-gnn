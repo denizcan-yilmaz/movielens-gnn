{
  "nbformat": 4,
  "nbformat_minor": 0,
  "metadata": {
    "colab": {
      "provenance": [],
      "machine_shape": "hm",
      "gpuType": "A100"
    },
    "kernelspec": {
      "name": "python3",
      "display_name": "Python 3"
    },
    "language_info": {
      "name": "python"
    },
    "accelerator": "GPU"
  },
  "cells": [
    {
      "cell_type": "markdown",
      "source": [
        "# V6\n",
        "## Hybrid + Edge Feature + Node Features"
      ],
      "metadata": {
        "id": "1PmFMU2VinO7"
      }
    },
    {
      "cell_type": "code",
      "execution_count": null,
      "metadata": {
        "id": "FELmUE-BAn3b",
        "colab": {
          "base_uri": "https://localhost:8080/"
        },
        "outputId": "83ca4d9d-ccda-49b0-cc79-58c987b459b8"
      },
      "outputs": [
        {
          "output_type": "stream",
          "name": "stdout",
          "text": [
            "Looking in links: https://data.pyg.org/whl/torch-2.0.1+cu118.html\n",
            "Requirement already satisfied: torch in /usr/local/lib/python3.10/dist-packages (2.5.1+cu121)\n",
            "Requirement already satisfied: torchvision in /usr/local/lib/python3.10/dist-packages (0.20.1+cu121)\n",
            "Requirement already satisfied: torchaudio in /usr/local/lib/python3.10/dist-packages (2.5.1+cu121)\n",
            "Requirement already satisfied: torch-geometric in /usr/local/lib/python3.10/dist-packages (2.6.1)\n",
            "Requirement already satisfied: torch-scatter in /usr/local/lib/python3.10/dist-packages (2.1.2+pt20cu118)\n",
            "Requirement already satisfied: torch-sparse in /usr/local/lib/python3.10/dist-packages (0.6.18+pt20cu118)\n",
            "Requirement already satisfied: torch-cluster in /usr/local/lib/python3.10/dist-packages (1.6.3+pt20cu118)\n",
            "Requirement already satisfied: filelock in /usr/local/lib/python3.10/dist-packages (from torch) (3.16.1)\n",
            "Requirement already satisfied: typing-extensions>=4.8.0 in /usr/local/lib/python3.10/dist-packages (from torch) (4.12.2)\n",
            "Requirement already satisfied: networkx in /usr/local/lib/python3.10/dist-packages (from torch) (3.4.2)\n",
            "Requirement already satisfied: jinja2 in /usr/local/lib/python3.10/dist-packages (from torch) (3.1.4)\n",
            "Requirement already satisfied: fsspec in /usr/local/lib/python3.10/dist-packages (from torch) (2024.10.0)\n",
            "Requirement already satisfied: sympy==1.13.1 in /usr/local/lib/python3.10/dist-packages (from torch) (1.13.1)\n",
            "Requirement already satisfied: mpmath<1.4,>=1.1.0 in /usr/local/lib/python3.10/dist-packages (from sympy==1.13.1->torch) (1.3.0)\n",
            "Requirement already satisfied: numpy in /usr/local/lib/python3.10/dist-packages (from torchvision) (1.26.4)\n",
            "Requirement already satisfied: pillow!=8.3.*,>=5.3.0 in /usr/local/lib/python3.10/dist-packages (from torchvision) (11.0.0)\n",
            "Requirement already satisfied: aiohttp in /usr/local/lib/python3.10/dist-packages (from torch-geometric) (3.11.10)\n",
            "Requirement already satisfied: psutil>=5.8.0 in /usr/local/lib/python3.10/dist-packages (from torch-geometric) (5.9.5)\n",
            "Requirement already satisfied: pyparsing in /usr/local/lib/python3.10/dist-packages (from torch-geometric) (3.2.0)\n",
            "Requirement already satisfied: requests in /usr/local/lib/python3.10/dist-packages (from torch-geometric) (2.32.3)\n",
            "Requirement already satisfied: tqdm in /usr/local/lib/python3.10/dist-packages (from torch-geometric) (4.67.1)\n",
            "Requirement already satisfied: scipy in /usr/local/lib/python3.10/dist-packages (from torch-sparse) (1.13.1)\n",
            "Requirement already satisfied: aiohappyeyeballs>=2.3.0 in /usr/local/lib/python3.10/dist-packages (from aiohttp->torch-geometric) (2.4.4)\n",
            "Requirement already satisfied: aiosignal>=1.1.2 in /usr/local/lib/python3.10/dist-packages (from aiohttp->torch-geometric) (1.3.2)\n",
            "Requirement already satisfied: async-timeout<6.0,>=4.0 in /usr/local/lib/python3.10/dist-packages (from aiohttp->torch-geometric) (4.0.3)\n",
            "Requirement already satisfied: attrs>=17.3.0 in /usr/local/lib/python3.10/dist-packages (from aiohttp->torch-geometric) (24.3.0)\n",
            "Requirement already satisfied: frozenlist>=1.1.1 in /usr/local/lib/python3.10/dist-packages (from aiohttp->torch-geometric) (1.5.0)\n",
            "Requirement already satisfied: multidict<7.0,>=4.5 in /usr/local/lib/python3.10/dist-packages (from aiohttp->torch-geometric) (6.1.0)\n",
            "Requirement already satisfied: propcache>=0.2.0 in /usr/local/lib/python3.10/dist-packages (from aiohttp->torch-geometric) (0.2.1)\n",
            "Requirement already satisfied: yarl<2.0,>=1.17.0 in /usr/local/lib/python3.10/dist-packages (from aiohttp->torch-geometric) (1.18.3)\n",
            "Requirement already satisfied: MarkupSafe>=2.0 in /usr/local/lib/python3.10/dist-packages (from jinja2->torch) (3.0.2)\n",
            "Requirement already satisfied: charset-normalizer<4,>=2 in /usr/local/lib/python3.10/dist-packages (from requests->torch-geometric) (3.4.0)\n",
            "Requirement already satisfied: idna<4,>=2.5 in /usr/local/lib/python3.10/dist-packages (from requests->torch-geometric) (3.10)\n",
            "Requirement already satisfied: urllib3<3,>=1.21.1 in /usr/local/lib/python3.10/dist-packages (from requests->torch-geometric) (2.2.3)\n",
            "Requirement already satisfied: certifi>=2017.4.17 in /usr/local/lib/python3.10/dist-packages (from requests->torch-geometric) (2024.12.14)\n"
          ]
        }
      ],
      "source": [
        "!pip install torch torchvision torchaudio torch-geometric torch-scatter torch-sparse torch-cluster -f https://data.pyg.org/whl/torch-2.0.1+cu118.html\n",
        "\n",
        "import random\n",
        "import time\n",
        "import numpy as np\n",
        "from sklearn.metrics import ndcg_score, mean_squared_error, mean_absolute_error\n",
        "from sklearn.model_selection import train_test_split\n",
        "import matplotlib.pyplot as plt\n",
        "from sklearn.manifold import TSNE\n",
        "import pandas as pd\n",
        "import torch\n",
        "import torch.nn as nn\n",
        "from torch_geometric.data import Data\n",
        "from sklearn.preprocessing import LabelEncoder\n",
        "from torch_geometric.nn import GATConv\n",
        "import torch.nn.functional as F\n",
        "from google.colab import drive\n",
        "from torch_geometric.nn import TransformerConv\n",
        "\n",
        "SEED = 42\n",
        "random.seed(SEED)\n",
        "np.random.seed(SEED)\n",
        "torch.manual_seed(SEED)\n",
        "if torch.cuda.is_available():\n",
        "    torch.cuda.manual_seed(SEED)\n",
        "    torch.cuda.manual_seed_all(SEED)\n",
        "\n",
        "torch.backends.cudnn.deterministic = True\n",
        "torch.backends.cudnn.benchmark = False"
      ]
    },
    {
      "cell_type": "code",
      "source": [
        "drive.mount('/content/drive')\n",
        "\n",
        "data_path = '/content/drive/My Drive/ceng_msc/562/movielens/ml-100k/processed_data.csv'\n",
        "full_data = pd.read_csv(data_path)"
      ],
      "metadata": {
        "colab": {
          "base_uri": "https://localhost:8080/"
        },
        "id": "FBbC1e9NP73m",
        "outputId": "856ce7a0-50c6-43e1-c995-b530e8b4fe35"
      },
      "execution_count": null,
      "outputs": [
        {
          "output_type": "stream",
          "name": "stdout",
          "text": [
            "Drive already mounted at /content/drive; to attempt to forcibly remount, call drive.mount(\"/content/drive\", force_remount=True).\n"
          ]
        }
      ]
    },
    {
      "cell_type": "code",
      "source": [
        "user_encoder = LabelEncoder()\n",
        "movie_encoder = LabelEncoder()\n",
        "\n",
        "full_data['user_id'] = user_encoder.fit_transform(full_data['user_id'])\n",
        "full_data['movie_id'] = movie_encoder.fit_transform(full_data['movie_id'])"
      ],
      "metadata": {
        "id": "53wiOTezQOfx"
      },
      "execution_count": null,
      "outputs": []
    },
    {
      "cell_type": "code",
      "source": [
        "from sklearn.preprocessing import LabelEncoder, OneHotEncoder, StandardScaler\n",
        "gender_mapping = {'M': 0, 'F': 1}\n",
        "full_data['gender'] = full_data['gender'].map(gender_mapping)\n",
        "\n",
        "occupation_encoder = LabelEncoder()\n",
        "full_data['occupation'] = occupation_encoder.fit_transform(full_data['occupation'])\n",
        "\n",
        "age_scaler = StandardScaler()\n",
        "full_data['age'] = age_scaler.fit_transform(full_data[['age']])\n",
        "\n",
        "year_scaler = StandardScaler()\n",
        "full_data['release_year'] = year_scaler.fit_transform(full_data[['year']])\n",
        "genre_columns = ['unknown', 'Action', 'Adventure', 'Animation', \"Children's\", 'Comedy',\n",
        "                 'Crime', 'Documentary', 'Drama', 'Fantasy', 'Film-Noir', 'Horror',\n",
        "                 'Musical', 'Mystery', 'Romance', 'Sci-Fi', 'Thriller', 'War', 'Western']\n",
        "genre_features = full_data[genre_columns].values"
      ],
      "metadata": {
        "id": "j3vyKzYjzUhT"
      },
      "execution_count": null,
      "outputs": []
    },
    {
      "cell_type": "code",
      "source": [
        "num_users = full_data['user_id'].nunique()\n",
        "num_movies = full_data['movie_id'].nunique()\n",
        "\n",
        "full_data['movie_id'] += num_users\n",
        "\n",
        "user_features = full_data[['user_id', 'age', 'gender']].drop_duplicates(subset=['user_id']).sort_values('user_id')\n",
        "user_features = torch.tensor(user_features[['age', 'gender']].values, dtype=torch.float)\n",
        "\n",
        "movie_features = full_data[['movie_id', 'release_year'] + genre_columns].drop_duplicates(subset=['movie_id']).sort_values('movie_id')\n",
        "movie_features = torch.tensor(movie_features[['release_year'] + genre_columns].values, dtype=torch.float)"
      ],
      "metadata": {
        "id": "UOehQ0p9QSUd"
      },
      "execution_count": null,
      "outputs": []
    },
    {
      "cell_type": "code",
      "source": [
        "print(f\"User Features Shape: {user_features.shape}\")\n",
        "print(f\"Movie Features Shape: {movie_features.shape}\")\n",
        "\n",
        "max_feature_dim = max(user_features.shape[1], movie_features.shape[1])\n",
        "\n",
        "if user_features.shape[1] < max_feature_dim:\n",
        "    padding = max_feature_dim - user_features.shape[1]\n",
        "    user_features = F.pad(user_features, (0, padding))\n",
        "\n",
        "if movie_features.shape[1] < max_feature_dim:\n",
        "    padding = max_feature_dim - movie_features.shape[1]\n",
        "    movie_features = F.pad(movie_features, (0, padding))\n",
        "\n",
        "node_features = torch.cat([user_features, movie_features], dim=0)\n",
        "\n",
        "print(f\"Checking node_features for NaN or Inf...\")\n",
        "print(f\"NaN in node_features: {torch.isnan(node_features).any()}\")\n",
        "print(f\"Inf in node_features: {torch.isinf(node_features).any()}\")\n",
        "\n",
        "node_features = torch.nan_to_num(node_features, nan=0.0, posinf=1.0, neginf=-1.0)\n"
      ],
      "metadata": {
        "id": "opsM8L7YQ-li",
        "colab": {
          "base_uri": "https://localhost:8080/"
        },
        "outputId": "4457bc2a-bcea-41c6-e95f-bc4d34ff6791"
      },
      "execution_count": null,
      "outputs": [
        {
          "output_type": "stream",
          "name": "stdout",
          "text": [
            "User Features Shape: torch.Size([943, 2])\n",
            "Movie Features Shape: torch.Size([1682, 20])\n",
            "Checking node_features for NaN or Inf...\n",
            "NaN in node_features: False\n",
            "Inf in node_features: False\n"
          ]
        }
      ]
    },
    {
      "cell_type": "code",
      "source": [
        "from sklearn.model_selection import train_test_split\n",
        "\n",
        "edges = full_data[['user_id', 'movie_id']].values\n",
        "ratings = full_data['rating'].values\n",
        "\n",
        "train_edges, test_edges, train_ratings, test_ratings = train_test_split(\n",
        "    edges, ratings, test_size=0.2, random_state=42\n",
        ")\n",
        "\n",
        "train_edge_index = torch.tensor(train_edges.T, dtype=torch.long)\n",
        "train_edge_attr = torch.tensor(train_ratings, dtype=torch.float)\n",
        "test_edge_index = torch.tensor(test_edges.T, dtype=torch.long)\n",
        "test_edge_attr = torch.tensor(test_ratings, dtype=torch.float)\n",
        "\n",
        "train_data = Data(\n",
        "    x=node_features,\n",
        "    edge_index=train_edge_index,\n",
        "    edge_attr=train_edge_attr\n",
        ")\n",
        "test_data = Data(\n",
        "    x=node_features,\n",
        "    edge_index=test_edge_index,\n",
        "    edge_attr=test_edge_attr\n",
        ")\n"
      ],
      "metadata": {
        "id": "HtafBn-bRBoy"
      },
      "execution_count": null,
      "outputs": []
    },
    {
      "cell_type": "code",
      "source": [
        "print(\"Max user ID in train_edges:\", train_edges[:, 0].max())\n",
        "print(\"Max user ID in test_edges:\", test_edges[:, 0].max())\n",
        "print(\"num_users:\", num_users)\n",
        "\n",
        "edges = full_data[['user_id', 'movie_id']].values\n",
        "ratings = full_data['rating'].values\n"
      ],
      "metadata": {
        "colab": {
          "base_uri": "https://localhost:8080/"
        },
        "id": "W9WCVxpuBFHh",
        "outputId": "8ec8646a-5731-4542-bc75-5fb26526c3d7"
      },
      "execution_count": null,
      "outputs": [
        {
          "output_type": "stream",
          "name": "stdout",
          "text": [
            "Max user ID in train_edges: 942\n",
            "Max user ID in test_edges: 942\n",
            "num_users: 943\n"
          ]
        }
      ]
    },
    {
      "cell_type": "code",
      "source": [
        "class LightGCN(nn.Module):\n",
        "    def __init__(self, num_nodes, embedding_dim, num_layers=5):\n",
        "        super().__init__()\n",
        "        self.num_nodes = num_nodes\n",
        "        self.embedding_dim = embedding_dim\n",
        "        self.num_layers = num_layers\n",
        "\n",
        "        self.embeddings = nn.Embedding(num_nodes, embedding_dim)\n",
        "        nn.init.xavier_uniform_(self.embeddings.weight)\n",
        "\n",
        "    def forward(self, data):\n",
        "        edge_index = data.edge_index\n",
        "        E0 = self.embeddings.weight\n",
        "        all_embs = [E0]\n",
        "        E_temp = E0\n",
        "        for _ in range(self.num_layers):\n",
        "            E_temp = self.propagate(edge_index, E_temp)\n",
        "            all_embs.append(E_temp)\n",
        "        E_final = torch.mean(torch.stack(all_embs, dim=0), dim=0)\n",
        "        return E_final\n",
        "\n",
        "    def propagate(self, edge_index, x):\n",
        "        src, dst = edge_index\n",
        "        out = torch.zeros_like(x)\n",
        "        out.index_add_(0, dst, x[src])\n",
        "        deg = torch.bincount(dst, minlength=x.size(0)).clamp(min=1)\n",
        "        out = out / deg.unsqueeze(1)\n",
        "        return out"
      ],
      "metadata": {
        "id": "1bwFmAyQ3b7W"
      },
      "execution_count": null,
      "outputs": []
    },
    {
      "cell_type": "code",
      "source": [
        "class EdgeAwareGNN(torch.nn.Module):\n",
        "    def __init__(self, input_dim, hidden_dim, output_dim):\n",
        "        super().__init__()\n",
        "        self.conv1 = TransformerConv(in_channels=input_dim,\n",
        "                                     out_channels=hidden_dim,\n",
        "                                     heads=4,\n",
        "                                     dropout=0.3,\n",
        "                                     edge_dim=1)\n",
        "\n",
        "        self.conv2 = TransformerConv(in_channels=hidden_dim*4,\n",
        "                                     out_channels=output_dim,\n",
        "                                     heads=1,\n",
        "                                     dropout=0.3,\n",
        "                                     edge_dim=1)\n",
        "\n",
        "\n",
        "        self.edge_predictor = nn.Linear(output_dim * 2, 1)\n",
        "\n",
        "    def forward(self, data):\n",
        "        x, edge_index, edge_attr = data.x, data.edge_index, data.edge_attr\n",
        "\n",
        "        edge_attr = edge_attr.unsqueeze(-1)\n",
        "\n",
        "        x = self.conv1(x, edge_index, edge_attr=edge_attr)\n",
        "        x = F.relu(x)\n",
        "        x = F.dropout(x, p=0.3, training=self.training)\n",
        "        x = self.conv2(x, edge_index, edge_attr=edge_attr)\n",
        "\n",
        "        src = x[edge_index[0]]\n",
        "        dst = x[edge_index[1]]\n",
        "        edge_features = torch.cat([src, dst], dim=1)\n",
        "        out = self.edge_predictor(edge_features)\n",
        "        return out.squeeze()"
      ],
      "metadata": {
        "id": "yv8oVKZNRBjG"
      },
      "execution_count": null,
      "outputs": []
    },
    {
      "cell_type": "code",
      "source": [
        "class HybridModel(nn.Module):\n",
        "    def __init__(self,\n",
        "                 num_nodes,\n",
        "                 edge_input_dim,\n",
        "                 gnn_hidden_dim,\n",
        "                 gnn_output_dim,\n",
        "                 lgn_embedding_dim,\n",
        "                 lgn_layers,\n",
        "                 num_users, num_movies):\n",
        "        super().__init__()\n",
        "        self.edge_aware_gnn = EdgeAwareGNN(input_dim=edge_input_dim,\n",
        "                                           hidden_dim=gnn_hidden_dim,\n",
        "                                           output_dim=gnn_output_dim)\n",
        "\n",
        "        self.lightgcn = LightGCN(num_nodes, lgn_embedding_dim, num_layers=lgn_layers)\n",
        "\n",
        "        self.user_bias = nn.Embedding(num_users, 1)\n",
        "        self.item_bias = nn.Embedding(num_movies, 1)\n",
        "        nn.init.zeros_(self.user_bias.weight)\n",
        "        nn.init.zeros_(self.item_bias.weight)\n",
        "\n",
        "        combined_dim = gnn_output_dim + lgn_embedding_dim\n",
        "        self.predictor = nn.Linear(combined_dim * 2, 1)\n",
        "\n",
        "    def forward(self, data):\n",
        "        edge_index, edge_attr = data.edge_index, data.edge_attr\n",
        "\n",
        "        x_node = self._edge_aware_node_embeddings(data)\n",
        "\n",
        "        x_lgcn = self.lightgcn(data)\n",
        "\n",
        "        src = edge_index[0]\n",
        "        dst = edge_index[1]\n",
        "\n",
        "        user_aware = x_node[src]\n",
        "        item_aware = x_node[dst]\n",
        "        user_lgcn = x_lgcn[src]\n",
        "        item_lgcn = x_lgcn[dst]\n",
        "\n",
        "        user_combine = torch.cat([user_aware, user_lgcn], dim=1)\n",
        "        item_combine = torch.cat([item_aware, item_lgcn], dim=1)\n",
        "\n",
        "        edge_features = torch.cat([user_combine, item_combine], dim=1)\n",
        "        rating_raw = self.predictor(edge_features).squeeze()\n",
        "\n",
        "        u_bias = self.user_bias(src).squeeze()\n",
        "        i_bias = self.item_bias(dst - num_users).squeeze()\n",
        "\n",
        "        rating = rating_raw + u_bias + i_bias\n",
        "\n",
        "        return rating\n",
        "\n",
        "    def _edge_aware_node_embeddings(self, data):\n",
        "        \"\"\"\n",
        "        A helper function to retrieve the node embeddings from EdgeAwareGNN\n",
        "        after the second convolution, but BEFORE the final edge predictor.\n",
        "        \"\"\"\n",
        "        x, edge_index, edge_attr = data.x, data.edge_index, data.edge_attr\n",
        "        edge_attr = edge_attr.unsqueeze(-1)\n",
        "\n",
        "        x = self.edge_aware_gnn.conv1(x, edge_index, edge_attr=edge_attr)\n",
        "        x = F.relu(x)\n",
        "        x = F.dropout(x, p=0.3, training=self.training)\n",
        "        x = self.edge_aware_gnn.conv2(x, edge_index, edge_attr=edge_attr)\n",
        "\n",
        "        return x\n"
      ],
      "metadata": {
        "id": "4NyZToQU3hLO"
      },
      "execution_count": null,
      "outputs": []
    },
    {
      "cell_type": "code",
      "source": [
        "def train_with_timing():\n",
        "    start_time = time.time()\n",
        "    model.train()\n",
        "    optimizer.zero_grad()\n",
        "    predicted_ratings = model(train_data)\n",
        "    loss = F.mse_loss(predicted_ratings, train_data.edge_attr)\n",
        "    loss.backward()\n",
        "    optimizer.step()\n",
        "    train_time = time.time() - start_time\n",
        "    return loss.item(), train_time"
      ],
      "metadata": {
        "id": "w8iCV1ioQ-wl"
      },
      "execution_count": null,
      "outputs": []
    },
    {
      "cell_type": "code",
      "source": [
        "device = torch.device('cuda' if torch.cuda.is_available() else 'cpu')\n",
        "input_dim = node_features.shape[1]\n",
        "hidden_dim = 128\n",
        "output_dim = 32\n",
        "\n",
        "model = HybridModel(\n",
        "    num_nodes=(num_users + num_movies),\n",
        "    edge_input_dim=node_features.shape[1],\n",
        "    gnn_hidden_dim=256,\n",
        "    gnn_output_dim=64,\n",
        "    lgn_embedding_dim=128,\n",
        "    lgn_layers=3,\n",
        "    num_users=num_users,\n",
        "    num_movies=num_movies\n",
        ").to(device)\n",
        "\n",
        "train_data = train_data.to(device)\n",
        "test_data = test_data.to(device)\n",
        "optimizer = torch.optim.Adam(model.parameters(), lr=0.001, weight_decay=1e-5)"
      ],
      "metadata": {
        "id": "w1FxV2vJQ-tw"
      },
      "execution_count": null,
      "outputs": []
    },
    {
      "cell_type": "code",
      "source": [
        "def evaluate_with_timing():\n",
        "    start_time = time.time()\n",
        "    model.eval()\n",
        "    with torch.no_grad():\n",
        "        predicted_ratings = model(test_data)\n",
        "        predicted_ratings = torch.clamp(predicted_ratings, min=1.0, max=5.0)\n",
        "        test_loss = F.mse_loss(predicted_ratings, test_data.edge_attr).item()\n",
        "    inference_time = time.time() - start_time\n",
        "    return test_loss, inference_time\n"
      ],
      "metadata": {
        "id": "LtHOTraBQ-yi"
      },
      "execution_count": null,
      "outputs": []
    },
    {
      "cell_type": "code",
      "source": [
        "def compute_metrics(predicted_ratings, true_ratings):\n",
        "    mse = mean_squared_error(true_ratings, predicted_ratings)\n",
        "    rmse = np.sqrt(mse)\n",
        "    mae = mean_absolute_error(true_ratings, predicted_ratings)\n",
        "\n",
        "    within_half = (np.abs(true_ratings - predicted_ratings) <= 0.5).mean()\n",
        "    success_rate = within_half * 100\n",
        "\n",
        "    exact_matches = (true_ratings == predicted_ratings).mean() * 100\n",
        "\n",
        "    print(f\"MSE: {mse:.4f}\")\n",
        "    print(f\"RMSE: {rmse:.4f}\")\n",
        "    print(f\"MAE: {mae:.4f}\")\n",
        "    print(f\"Success Rate (±0.5): {success_rate:.2f}%\")\n",
        "    print(f\"Exact Match Rate: {exact_matches:.2f}%\")\n",
        "\n",
        "    return mse, rmse, mae, success_rate, exact_matches\n"
      ],
      "metadata": {
        "id": "-u3RqJQZSm_F"
      },
      "execution_count": null,
      "outputs": []
    },
    {
      "cell_type": "code",
      "source": [
        "def precision_recall_with_interval(predictions, true_ratings, interval=0.5, threshold=3.0):\n",
        "    differences = np.abs(predictions - true_ratings)\n",
        "    predicted_relevant = differences <= interval\n",
        "\n",
        "    true_relevant = true_ratings >= threshold\n",
        "\n",
        "    tp = np.sum(predicted_relevant & true_relevant)\n",
        "    fp = np.sum(predicted_relevant & ~true_relevant)\n",
        "    fn = np.sum(~predicted_relevant & true_relevant)\n",
        "\n",
        "    precision = tp / (tp + fp) if (tp + fp) > 0 else 0\n",
        "    recall = tp / (tp + fn) if (tp + fn) > 0 else 0\n",
        "\n",
        "    return precision, recall"
      ],
      "metadata": {
        "id": "KomQW7bCRfuT"
      },
      "execution_count": null,
      "outputs": []
    },
    {
      "cell_type": "code",
      "source": [
        "def plot_loss(training_losses, testing_losses):\n",
        "    plt.figure(figsize=(8, 6))\n",
        "    plt.plot(training_losses, label='Training Loss')\n",
        "    plt.plot(range(0, len(testing_losses) * 10, 10), testing_losses, label='Testing Loss')\n",
        "    plt.xlabel('Epoch')\n",
        "    plt.ylabel('Loss (MSE)')\n",
        "    plt.title('Training and Testing Loss Over Epochs')\n",
        "    plt.legend()\n",
        "    plt.show()"
      ],
      "metadata": {
        "id": "QDDBi5oWVyDX"
      },
      "execution_count": null,
      "outputs": []
    },
    {
      "cell_type": "code",
      "source": [
        "def plot_true_vs_predicted(true_ratings, predicted_ratings):\n",
        "    plt.figure(figsize=(8, 6))\n",
        "    plt.scatter(true_ratings, predicted_ratings, alpha=0.5, label='Predictions')\n",
        "    plt.plot([1, 5], [1, 5], color='red', linestyle='--', label='Ideal Predictions')\n",
        "    plt.xlim(0.8, 5.2)\n",
        "    plt.ylim(0.8, 5.2)\n",
        "    plt.xticks(range(1, 6))\n",
        "    plt.yticks(range(1, 6))\n",
        "    plt.title('True Ratings vs Predicted Ratings')\n",
        "    plt.xlabel('True Ratings')\n",
        "    plt.ylabel('Predicted Ratings')\n",
        "    plt.legend()\n",
        "    plt.show()\n"
      ],
      "metadata": {
        "id": "7gvTVtgOghBX"
      },
      "execution_count": null,
      "outputs": []
    },
    {
      "cell_type": "code",
      "source": [
        "training_losses = []\n",
        "testing_losses = []\n",
        "training_times = []\n",
        "\n",
        "best_test_loss = float('inf')\n",
        "patience_limit = 20\n",
        "patience_counter = 0\n",
        "\n",
        "max_epochs = 500\n",
        "\n",
        "for epoch in range(max_epochs):\n",
        "    loss, train_time = train_with_timing()\n",
        "    training_losses.append(loss)\n",
        "    training_times.append(train_time)\n",
        "\n",
        "    if epoch % 10 == 0:\n",
        "        test_loss, inference_time = evaluate_with_timing()\n",
        "        testing_losses.append(test_loss)\n",
        "        print(f\"Epoch {epoch}, Loss: {loss:.4f}, Test Loss: {test_loss:.4f}, Training Time: {train_time:.4f}s, Inference Time: {inference_time:.4f}s\")\n",
        "        if test_loss < best_test_loss:\n",
        "            best_test_loss = test_loss\n",
        "            patience_counter = 0\n",
        "        else:\n",
        "            patience_counter += 1\n",
        "\n",
        "        if patience_counter >= patience_limit:\n",
        "            print(f\"Early stopping at epoch {epoch}, best test loss: {best_test_loss:.4f}\")\n",
        "            break"
      ],
      "metadata": {
        "colab": {
          "base_uri": "https://localhost:8080/"
        },
        "id": "FrVkg7L2Rfwj",
        "outputId": "de853548-d252-4285-9a2e-be5147e5d5fb"
      },
      "execution_count": null,
      "outputs": [
        {
          "output_type": "stream",
          "name": "stdout",
          "text": [
            "Epoch 0, Loss: 12.1722, Test Loss: 2.4116, Training Time: 0.0215s, Inference Time: 0.0048s\n",
            "Epoch 10, Loss: 2.3861, Test Loss: 2.3715, Training Time: 0.0177s, Inference Time: 0.0043s\n",
            "Epoch 20, Loss: 1.5024, Test Loss: 1.1292, Training Time: 0.0167s, Inference Time: 0.0042s\n",
            "Epoch 30, Loss: 1.1103, Test Loss: 0.9377, Training Time: 0.0165s, Inference Time: 0.0042s\n",
            "Epoch 40, Loss: 1.0426, Test Loss: 0.9474, Training Time: 0.0165s, Inference Time: 0.0042s\n",
            "Epoch 50, Loss: 1.0416, Test Loss: 0.9300, Training Time: 0.0170s, Inference Time: 0.0043s\n",
            "Epoch 60, Loss: 1.0036, Test Loss: 0.9008, Training Time: 0.0165s, Inference Time: 0.0042s\n",
            "Epoch 70, Loss: 0.9846, Test Loss: 0.8878, Training Time: 0.0165s, Inference Time: 0.0043s\n",
            "Epoch 80, Loss: 0.9600, Test Loss: 0.8679, Training Time: 0.0165s, Inference Time: 0.0042s\n",
            "Epoch 90, Loss: 0.9360, Test Loss: 0.8525, Training Time: 0.0166s, Inference Time: 0.0042s\n",
            "Epoch 100, Loss: 0.9204, Test Loss: 0.8379, Training Time: 0.0165s, Inference Time: 0.0042s\n",
            "Epoch 110, Loss: 0.9038, Test Loss: 0.8278, Training Time: 0.0166s, Inference Time: 0.0043s\n",
            "Epoch 120, Loss: 0.8900, Test Loss: 0.8217, Training Time: 0.0167s, Inference Time: 0.0042s\n",
            "Epoch 130, Loss: 0.8820, Test Loss: 0.8186, Training Time: 0.0166s, Inference Time: 0.0044s\n",
            "Epoch 140, Loss: 0.8763, Test Loss: 0.8170, Training Time: 0.0166s, Inference Time: 0.0045s\n",
            "Epoch 150, Loss: 0.8731, Test Loss: 0.8163, Training Time: 0.0166s, Inference Time: 0.0042s\n",
            "Epoch 160, Loss: 0.8711, Test Loss: 0.8159, Training Time: 0.0166s, Inference Time: 0.0042s\n",
            "Epoch 170, Loss: 0.8664, Test Loss: 0.8155, Training Time: 0.0170s, Inference Time: 0.0042s\n",
            "Epoch 180, Loss: 0.8660, Test Loss: 0.8153, Training Time: 0.0168s, Inference Time: 0.0042s\n",
            "Epoch 190, Loss: 0.8631, Test Loss: 0.8158, Training Time: 0.0167s, Inference Time: 0.0043s\n",
            "Epoch 200, Loss: 0.8620, Test Loss: 0.8156, Training Time: 0.0165s, Inference Time: 0.0042s\n",
            "Epoch 210, Loss: 0.8613, Test Loss: 0.8158, Training Time: 0.0165s, Inference Time: 0.0043s\n",
            "Epoch 220, Loss: 0.8595, Test Loss: 0.8159, Training Time: 0.0164s, Inference Time: 0.0042s\n",
            "Epoch 230, Loss: 0.8596, Test Loss: 0.8161, Training Time: 0.0164s, Inference Time: 0.0042s\n",
            "Epoch 240, Loss: 0.8586, Test Loss: 0.8165, Training Time: 0.0169s, Inference Time: 0.0051s\n",
            "Epoch 250, Loss: 0.8569, Test Loss: 0.8163, Training Time: 0.0165s, Inference Time: 0.0042s\n",
            "Epoch 260, Loss: 0.8580, Test Loss: 0.8165, Training Time: 0.0165s, Inference Time: 0.0042s\n",
            "Epoch 270, Loss: 0.8566, Test Loss: 0.8171, Training Time: 0.0173s, Inference Time: 0.0042s\n",
            "Epoch 280, Loss: 0.8563, Test Loss: 0.8168, Training Time: 0.0184s, Inference Time: 0.0042s\n",
            "Epoch 290, Loss: 0.8544, Test Loss: 0.8171, Training Time: 0.0164s, Inference Time: 0.0042s\n",
            "Epoch 300, Loss: 0.8552, Test Loss: 0.8172, Training Time: 0.0164s, Inference Time: 0.0042s\n",
            "Epoch 310, Loss: 0.8528, Test Loss: 0.8170, Training Time: 0.0164s, Inference Time: 0.0042s\n",
            "Epoch 320, Loss: 0.8548, Test Loss: 0.8169, Training Time: 0.0163s, Inference Time: 0.0042s\n",
            "Epoch 330, Loss: 0.8514, Test Loss: 0.8172, Training Time: 0.0165s, Inference Time: 0.0042s\n",
            "Epoch 340, Loss: 0.8517, Test Loss: 0.8174, Training Time: 0.0163s, Inference Time: 0.0042s\n",
            "Epoch 350, Loss: 0.8525, Test Loss: 0.8186, Training Time: 0.0164s, Inference Time: 0.0042s\n",
            "Epoch 360, Loss: 0.8505, Test Loss: 0.8182, Training Time: 0.0164s, Inference Time: 0.0043s\n",
            "Epoch 370, Loss: 0.8494, Test Loss: 0.8176, Training Time: 0.0163s, Inference Time: 0.0042s\n",
            "Epoch 380, Loss: 0.8484, Test Loss: 0.8178, Training Time: 0.0162s, Inference Time: 0.0043s\n",
            "Early stopping at epoch 380, best test loss: 0.8153\n"
          ]
        }
      ]
    },
    {
      "cell_type": "code",
      "source": [
        "inference_times = []\n",
        "for epoch in range(0, 500, 10):\n",
        "    _, inference_time = evaluate_with_timing()\n",
        "    inference_times.append(inference_time)\n",
        "\n",
        "average_training_time = np.mean(training_times)\n",
        "average_inference_time = np.mean(inference_times)\n",
        "\n",
        "print(\"\\nSummary of Training and Evaluation Times:\")\n",
        "print(f\"  - Average Training Time per Epoch: {average_training_time:.4f}s\")\n",
        "print(f\"  - Average Inference Time: {average_inference_time:.4f}s\")"
      ],
      "metadata": {
        "colab": {
          "base_uri": "https://localhost:8080/"
        },
        "id": "Gd97tLftl2sJ",
        "outputId": "51cfe4bd-7d12-4e79-b1ea-bf6de896b508"
      },
      "execution_count": null,
      "outputs": [
        {
          "output_type": "stream",
          "name": "stdout",
          "text": [
            "\n",
            "Summary of Training and Evaluation Times:\n",
            "  - Average Training Time per Epoch: 0.0168s\n",
            "  - Average Inference Time: 0.0039s\n"
          ]
        }
      ]
    },
    {
      "cell_type": "code",
      "source": [
        "model.eval()\n",
        "with torch.no_grad():\n",
        "    predicted_ratings = model(test_data)\n",
        "    raw_predictions = predicted_ratings.cpu().numpy()\n",
        "    predicted_ratings = np.clip(raw_predictions, 1.0, 5.0)\n",
        "    true_ratings = test_data.edge_attr.cpu().numpy()"
      ],
      "metadata": {
        "id": "bd0qrVJlTrJ3"
      },
      "execution_count": null,
      "outputs": []
    },
    {
      "cell_type": "code",
      "source": [
        "mse, rmse, mae, success_rate, exact_matches = compute_metrics(predicted_ratings, true_ratings)\n",
        "\n",
        "precision, recall = precision_recall_with_interval(predicted_ratings, true_ratings, interval=0.5)\n",
        "print(f\"Precision: {precision:.4f}\")\n",
        "print(f\"Recall: {recall:.4f}\")\n",
        "\n",
        "ndcg = ndcg_score([true_ratings], [predicted_ratings])\n",
        "print(f\"NDCG: {ndcg:.4f}\")"
      ],
      "metadata": {
        "colab": {
          "base_uri": "https://localhost:8080/"
        },
        "id": "guWxJAQeRs2w",
        "outputId": "1ecd5f9d-5d9b-41d6-a5ee-7b90a69b7e1d"
      },
      "execution_count": null,
      "outputs": [
        {
          "output_type": "stream",
          "name": "stdout",
          "text": [
            "MSE: 0.8178\n",
            "RMSE: 0.9043\n",
            "MAE: 0.7090\n",
            "Success Rate (±0.5): 43.29%\n",
            "Exact Match Rate: 0.82%\n",
            "Precision: 0.9317\n",
            "Recall: 0.4880\n",
            "NDCG: 0.9885\n"
          ]
        }
      ]
    },
    {
      "cell_type": "code",
      "source": [
        "plot_loss(training_losses, testing_losses)\n",
        "plot_true_vs_predicted(true_ratings, predicted_ratings)"
      ],
      "metadata": {
        "colab": {
          "base_uri": "https://localhost:8080/",
          "height": 1000
        },
        "id": "evNoGciGYNWV",
        "outputId": "5c02553d-f618-44cd-ccca-8c68bf5d2c90"
      },
      "execution_count": null,
      "outputs": [
        {
          "output_type": "display_data",
          "data": {
            "text/plain": [
              "<Figure size 800x600 with 1 Axes>"
            ],
            "image/png": "[encoded data removed]"
          },
          "metadata": {}
        },
        {
          "output_type": "display_data",
          "data": {
            "text/plain": [
              "<Figure size 800x600 with 1 Axes>"
            ],
            "image/png": "[encoded data removed]"
          },
          "metadata": {}
        }
      ]
    }
  ]
}